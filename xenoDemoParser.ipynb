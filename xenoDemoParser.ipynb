{
 "cells": [
  {
   "cell_type": "code",
   "execution_count": 11,
   "id": "bf4eb168",
   "metadata": {
    "scrolled": true
   },
   "outputs": [
    {
     "name": "stdout",
     "output_type": "stream",
     "text": [
      "patool: Extracting ESL-Pro-League-Season13-astralis-vs-liquid-bo3.rar ...\n",
      "patool: running \"C:\\Program Files\\WinRAR\\rar.EXE\" x -- C:\\Users\\Matias\\Documents\\UDESA\\Tesis_maestria\\Atpt\\Prueba_nombres\\ESL-Pro-League-Season13-astralis-vs-liquid-bo3.rar\n",
      "patool:     with cwd=C:\\Users\\Matias\\Documents\\UDESA\\Tesis_maestria\\Atpt\\Prueba_nombres\n",
      "patool: ... ESL-Pro-League-Season13-astralis-vs-liquid-bo3.rar extracted to `C:\\Users\\Matias\\Documents\\UDESA\\Tesis_maestria\\Atpt\\Prueba_nombres'.\n"
     ]
    }
   ],
   "source": [
    "from openpyxl import Workbook\n",
    "from awpy.parser import DemoParser\n",
    "import pandas as pd\n",
    "import os, shutil\n",
    "import patoolib\n",
    "\n",
    "# lista de demos a procesar\n",
    "path = \"C:\\\\Users\\\\Matias\\\\Documents\\\\UDESA\\\\Tesis_maestria\\\\Atpt\\\\Prueba_nombres\"\n",
    "os.chdir(path)\n",
    "\n",
    "carpetas = []\n",
    "for file in os.listdir():\n",
    "    if \".rar\" in file:\n",
    "        carpetas += [file]\n",
    "    else:\n",
    "        os.remove(file)\n",
    "    \n",
    "# Ahora hay más archivos, puedo iterar sobre los nuevos\n",
    "for folder in carpetas:\n",
    "    # Extraigo la carpeta\n",
    "    patoolib.extract_archive(\"%s\" % folder, outdir=\"%s\" %path)\n",
    "    # La muevo a parsedDemos\n",
    "    shutil.move(path + \"\\\\\" + folder, \"C:\\\\Users\\\\Matias\\\\Documents\\\\UDESA\\\\Tesis_maestria\\\\Atpt\\\\parsedDemos\")\n",
    "    \n",
    "    # Itero sobre los files y me fijo si son demo y no les cambié el nombre. Si no, les cambio el nombre\n",
    "    for demo in os.listdir():\n",
    "        for nombre in carpetas:\n",
    "            if (\".dem\" not in demo) or (demo[0] == \"x\"):\n",
    "                break\n",
    "        else:\n",
    "            os.rename(demo, \"x\" + folder.split(\"vs\")[0] + \"vs\" + demo.split(\"vs\")[1])\n",
    "\n",
    "# Agarro los nombres de las demos\n",
    "demos = []\n",
    "for file in os.listdir():\n",
    "    if \".dem\" in file:\n",
    "        demos += [file]\n",
    "    \n",
    "# Lista de rondas a chequear manualmente\n",
    "timeOuts = []\n",
    "# Dataframe con todo\n",
    "output = pd.DataFrame()\n",
    "\n",
    "### Itero el parser por cada demo\n",
    "for demo in demos:\n",
    "    demo_parser = DemoParser(\n",
    "    demofile = \"%s\" % demo,\n",
    "    parse_rate=128, \n",
    "    buy_style=\"hltv\"\n",
    "    )\n",
    "\n",
    "\n",
    "    # Parse the demofile, output results to dictionary\n",
    "    df = demo_parser.parse(return_type=\"df\")\n",
    "\n",
    "    # Agrego una columna que mide los ticks entre el comienzo de la ronda y final del freezeTime\n",
    "    df[\"rounds\"][\"freezeTimeTotal\"] = df[\"rounds\"][\"freezeTimeEndTick\"] - df[\"rounds\"][\"startTick\"]\n",
    "    \n",
    "    for index, row in df[\"rounds\"].iterrows():\n",
    "        if row[\"freezeTimeTotal\"] != 2560 and row[\"roundNum\"] != 1:\n",
    "            timeOuts += [\"Ver %s en ronda %s\" % (row[\"matchID\"], row[\"roundNum\"])]\n",
    "    \n",
    "    #output = output.append(df[\"rounds\"], ignore_index = True)\n",
    "    output = pd.concat([output, df[\"rounds\"]], ignore_index = True)\n",
    "    \n",
    "output.drop(output.columns[17:25], axis = 1, inplace = True)\n",
    "\n",
    "with pd.ExcelWriter(\n",
    "    \"C:\\\\Users\\\\Matias\\\\Documents\\\\UDESA\\\\Tesis_maestria\\\\Atpt\\\\parsedDemos.xlsx\",\n",
    "    mode = \"a\",\n",
    "    if_sheet_exists = \"overlay\"\n",
    ") as writer:\n",
    "    output.to_excel(writer, index = False, startrow = writer.sheets['Sheet1'].max_row, header = None)\n",
    "\n",
    "with open('C:\\\\Users\\\\Matias\\\\Documents\\\\UDESA\\\\Tesis_maestria\\\\Atpt\\\\Demos_a_revisar.txt', 'a') as f:\n",
    "    f.writelines(\"\\n\".join(timeOuts))"
   ]
  },
  {
   "cell_type": "code",
   "execution_count": 9,
   "id": "f9a4de9c",
   "metadata": {},
   "outputs": [
    {
     "data": {
      "text/plain": [
       "['roundNum',\n",
       " 'matchID',\n",
       " 'mapName',\n",
       " 'startTick',\n",
       " 'freezeTimeEndTick',\n",
       " 'endTick',\n",
       " 'endOfficialTick',\n",
       " 'tScore',\n",
       " 'ctScore',\n",
       " 'endTScore',\n",
       " 'endCTScore',\n",
       " 'tTeam',\n",
       " 'ctTeam',\n",
       " 'winningSide',\n",
       " 'winningTeam',\n",
       " 'losingTeam',\n",
       " 'roundEndReason',\n",
       " 'freezeTimeTotal']"
      ]
     },
     "execution_count": 9,
     "metadata": {},
     "output_type": "execute_result"
    }
   ],
   "source": [
    "output"
   ]
  },
  {
   "cell_type": "code",
   "execution_count": null,
   "id": "e174bf69",
   "metadata": {},
   "outputs": [],
   "source": []
  },
  {
   "cell_type": "code",
   "execution_count": 20,
   "id": "5762e60d",
   "metadata": {},
   "outputs": [
    {
     "data": {
      "text/plain": [
       "NotImplementedError"
      ]
     },
     "execution_count": 20,
     "metadata": {},
     "output_type": "execute_result"
    }
   ],
   "source": [
    "from awpy.analytics.wpa import round_win_probability\n",
    "# Agrego tres columnas, con la probabilidad de victoria, derrota y empate\n",
    "round_win_probability(df[\"rounds\"][\"ctScore\"][6], df[\"rounds\"][\"tScore\"][6], \"Nuke\")"
   ]
  },
  {
   "cell_type": "code",
   "execution_count": null,
   "id": "1051299d",
   "metadata": {},
   "outputs": [],
   "source": []
  },
  {
   "cell_type": "code",
   "execution_count": null,
   "id": "c94a32a7",
   "metadata": {},
   "outputs": [],
   "source": [
    "### VERSION SIN EXTRACCION DE DEMOS\n",
    "from openpyxl import Workbook\n",
    "from awpy.parser import DemoParser\n",
    "import pandas as pd\n",
    "import os\n",
    "\n",
    "# Consigo la lista de los demas disponibles\n",
    "path = \"C:\\\\Users\\\\Matias\\\\Documents\\\\UDESA\\\\Tesis_maestria\\\\Atpt\\\\demos\"\n",
    "os.chdir(path)\n",
    "\n",
    "demos = []\n",
    "for file in os.listdir():\n",
    "    if \".dem\" in file:\n",
    "        demos += [file]\n",
    "    \n",
    "# Lista de rondas a chequear manualmente\n",
    "timeOuts = []\n",
    "# Dataframe con todo\n",
    "output = pd.DataFrame()\n",
    "\n",
    "### Itero el parser por cada demo\n",
    "for demo in demos:\n",
    "    demo_parser = DemoParser(\n",
    "    demofile = \"%s\" % demo,\n",
    "    parse_rate=128, \n",
    "    buy_style=\"hltv\"\n",
    "    )\n",
    "\n",
    "\n",
    "    # Parse the demofile, output results to dictionary\n",
    "    df = demo_parser.parse(return_type=\"df\")\n",
    "\n",
    "    # Agrego una columna que mide los ticks entre el comienzo de la ronda y final del freezeTime\n",
    "    df[\"rounds\"][\"freezeTimeTotal\"] = df[\"rounds\"][\"freezeTimeEndTick\"] - df[\"rounds\"][\"startTick\"]\n",
    "    \n",
    "    for index, row in df[\"rounds\"].iterrows():\n",
    "        if row[\"freezeTimeTotal\"] != 2560 and row[\"roundNum\"] != 1:\n",
    "            timeOuts += [\"Ver %s en ronda %s\" % (row[\"matchID\"], row[\"roundNum\"])]\n",
    "    \n",
    "    \n",
    "    output = output.append(df[\"rounds\"], ignore_index = True)\n",
    "    \n",
    "output.to_excel(\"parsedDemos.xlsx\", index = False)"
   ]
  },
  {
   "cell_type": "code",
   "execution_count": null,
   "id": "307b712e",
   "metadata": {},
   "outputs": [],
   "source": [
    "output"
   ]
  },
  {
   "cell_type": "code",
   "execution_count": 81,
   "id": "f16a7f66",
   "metadata": {},
   "outputs": [
    {
     "data": {
      "text/plain": [
       "['Ver xPGL-Major-Antwerp-2022-ence-vs-natus-vincere-m1-nuke en ronda 6',\n",
       " 'Ver xPGL-Major-Antwerp-2022-ence-vs-natus-vincere-m1-nuke en ronda 7',\n",
       " 'Ver xPGL-Major-Antwerp-2022-ence-vs-natus-vincere-m1-nuke en ronda 8',\n",
       " 'Ver xPGL-Major-Antwerp-2022-ence-vs-natus-vincere-m1-nuke en ronda 9',\n",
       " 'Ver xPGL-Major-Antwerp-2022-ence-vs-natus-vincere-m1-nuke en ronda 12',\n",
       " 'Ver xPGL-Major-Antwerp-2022-ence-vs-natus-vincere-m1-nuke en ronda 18',\n",
       " 'Ver xPGL-Major-Antwerp-2022-ence-vs-natus-vincere-m1-nuke en ronda 20',\n",
       " 'Ver xPGL-Major-Antwerp-2022-ence-vs-natus-vincere-m1-nuke en ronda 22',\n",
       " 'Ver xPGL-Major-Antwerp-2022-ence-vs-natus-vincere-m2-dust2 en ronda 10',\n",
       " 'Ver xPGL-Major-Antwerp-2022-ence-vs-natus-vincere-m2-dust2 en ronda 13',\n",
       " 'Ver xPGL-Major-Antwerp-2022-ence-vs-natus-vincere-m2-dust2 en ronda 21',\n",
       " 'Ver xPGL-Major-Antwerp-2022-ence-vs-natus-vincere-m2-dust2 en ronda 23',\n",
       " 'Ver xPGL-Major-Antwerp-2022-ence-vs-natus-vincere-m2-dust2 en ronda 28',\n",
       " 'Ver xPGL-Major-Antwerp-2022-faze-vs-natus-vincere-m1-inferno en ronda 2',\n",
       " 'Ver xPGL-Major-Antwerp-2022-faze-vs-natus-vincere-m1-inferno en ronda 7',\n",
       " 'Ver xPGL-Major-Antwerp-2022-faze-vs-natus-vincere-m1-inferno en ronda 14',\n",
       " 'Ver xPGL-Major-Antwerp-2022-faze-vs-natus-vincere-m1-inferno en ronda 23',\n",
       " 'Ver xPGL-Major-Antwerp-2022-faze-vs-natus-vincere-m1-inferno en ronda 24',\n",
       " 'Ver xPGL-Major-Antwerp-2022-faze-vs-natus-vincere-m1-inferno en ronda 30',\n",
       " 'Ver xPGL-Major-Antwerp-2022-faze-vs-natus-vincere-m2-nuke en ronda 11',\n",
       " 'Ver xPGL-Major-Antwerp-2022-faze-vs-natus-vincere-m2-nuke en ronda 21',\n",
       " 'Ver xPGL-Major-Antwerp-2022-faze-vs-natus-vincere-m2-nuke en ronda 24',\n",
       " 'Ver xPGL-Major-Antwerp-2022-faze-vs-natus-vincere-m2-nuke en ronda 25',\n",
       " 'Ver xPGL-Major-Antwerp-2022-faze-vs-natus-vincere-m2-nuke en ronda 26']"
      ]
     },
     "execution_count": 81,
     "metadata": {},
     "output_type": "execute_result"
    }
   ],
   "source": [
    "timeOuts"
   ]
  },
  {
   "cell_type": "code",
   "execution_count": null,
   "id": "1997094c",
   "metadata": {},
   "outputs": [],
   "source": [
    "### PARSER + TIMEOUTS\n",
    "from awpy.parser import DemoParser\n",
    "\n",
    "# Create parser object\n",
    "# Set log=True above if you want to produce a logfile for the parser\n",
    "demo_parser = DemoParser(\n",
    "    demofile = \"faze-vs-natus-vincere-m2-nuke.dem\",\n",
    "    parse_rate=128, \n",
    "    buy_style=\"hltv\"\n",
    ")\n",
    "\n",
    "\n",
    "# Parse the demofile, output results to dictionary\n",
    "df = demo_parser.parse(return_type=\"df\")\n",
    "\n",
    "# Agrego una columna que mide los ticks entre el comienzo de la ronda y final del freezeTime\n",
    "df[\"rounds\"][\"freezeTimeTotal\"] = df[\"rounds\"][\"freezeTimeEndTick\"] - df[\"rounds\"][\"startTick\"]\n",
    "\n",
    "# Obtengo datos de rondas en las que el freeze time duró más de lo que debería\n",
    "timeOuts = []\n",
    "for index, row in df[\"rounds\"].iterrows():\n",
    "    if row[\"freezeTimeTotal\"] != 2560 and row[\"roundNum\"] != 1:\n",
    "        timeOuts += [\"Ver %s en ronda %s]\" % (row[\"matchID\"], row[\"roundNum\"])]"
   ]
  },
  {
   "cell_type": "code",
   "execution_count": null,
   "id": "3a941764",
   "metadata": {},
   "outputs": [],
   "source": [
    "timeOuts"
   ]
  },
  {
   "cell_type": "code",
   "execution_count": null,
   "id": "14ba4963",
   "metadata": {
    "scrolled": false
   },
   "outputs": [],
   "source": [
    "# Devuelve el ID del match (str)\n",
    "df[\"matchID\"]\n",
    "\n",
    "# Devuelve el nombre del mapa (str)\n",
    "df[\"mapName\"]\n",
    "\n",
    "# Devuelve un dataframe con roundNum / matchID / mapName / startTick/ freezeTimeEndTick / endTick / endOfficialTick / tScore / ctScore / endTScore / endCTScore / tTeam / ctTeam / winningSide / winningTeam / losingTeam / roundEndReason / tStartEqVal / tRoundStartEqVal / tRoundStartMoney / tBuyType / tSpend / ctStartEqVal / ctRoundStartEqVal / ctRoundStartMoney / ctBuyType / ctSpend \n",
    "df[\"rounds\"]\n",
    "\n",
    "# Devuelve un dataframe con 'tick' / 'seconds' / 'clockTime' / 'attackerSteamID' / 'attackerName' / 'attackerTeam' / 'attackerSide' / 'attackerX' / 'attackerY' / 'attackerZ' / 'attackerViewX' / 'attackerViewY' / 'victimSteamID' / 'victimName' / 'victimTeam' / 'victimSide' / 'victimX' / 'victimY' / 'victimZ' / 'victimViewX' / 'victimViewY' / 'assisterSteamID' / 'assisterName' / 'assisterTeam' / 'assisterSide' / 'isSuicide' / 'isTeamkill' / 'isWallbang' / 'penetratedObjects' / 'isFirstKill' / 'isHeadshot' / 'victimBlinded' / 'attackerBlinded' / 'flashThrowerSteamID' / 'flashThrowerName' / 'flashThrowerTeam' / 'flashThrowerSide' / 'noScope' / 'thruSmoke' / 'distance' / 'isTrade' / 'playerTradedName' / 'playerTradedTeam' / 'playerTradedSteamID' / 'weapon' / 'weaponClass' / 'roundNum' / 'matchID' / 'mapName'\n",
    "df[\"kills\"]\n",
    "# Si quiero una lista con las columnas: df[\"kills\"].columns.values.tolist()\n",
    "\n",
    "# Devuelve un dataframe con datos sobre daño realizado\n",
    "df[\"damages\"]\n",
    "\n",
    "# Devuelve un dataframe con datos sobre granadas\n",
    "df[\"grenades\"]\n",
    "# sobre flashes particularmente\n",
    "df[\"flashes\"]\n",
    "\n",
    "# Devuelve un dataframe con datos sobre veces en la que los jugadores dispararon\n",
    "df[\"weaponFires\"]\n",
    "\n",
    "# Devuelve un dataframe con datos sobre eventos de bomba (comienzo, abort y final de plant / comienzo, aborto y final de defuse)\n",
    "df[\"bombEvents\"]\n",
    "\n",
    "# Devuelve un dataframe con roundNum / tick / seconds / ctTeamName / ctEqVal / \n",
    "df[\"frames\"]\n",
    "\n",
    "# MUCHOS DATOS SOBRE CADA JUGADOR EN CADA TICK (usar a discresión)\n",
    "#df[\"playerFrames\"]"
   ]
  },
  {
   "cell_type": "code",
   "execution_count": 70,
   "id": "83536e10",
   "metadata": {},
   "outputs": [
    {
     "name": "stdout",
     "output_type": "stream",
     "text": [
      "PGL-Major-Antwerp-2022-ence-vs-natus-vincere-bo3.rar\n",
      "patool: Extracting PGL-Major-Antwerp-2022-ence-vs-natus-vincere-bo3.rar ...\n",
      "patool: running \"C:\\Program Files\\WinRAR\\rar.EXE\" x -- C:\\Users\\Matias\\Documents\\UDESA\\Tesis_maestria\\Atpt\\Prueba_nombres\\PGL-Major-Antwerp-2022-ence-vs-natus-vincere-bo3.rar\n",
      "patool:     with cwd=C:\\Users\\Matias\\Documents\\UDESA\\Tesis_maestria\\Atpt\\Prueba_nombres\n",
      "patool: ... PGL-Major-Antwerp-2022-ence-vs-natus-vincere-bo3.rar extracted to `C:\\Users\\Matias\\Documents\\UDESA\\Tesis_maestria\\Atpt\\Prueba_nombres'.\n",
      "PGL-Major-Antwerp-2022-faze-vs-natus-vincere-bo3.rar\n",
      "patool: Extracting PGL-Major-Antwerp-2022-faze-vs-natus-vincere-bo3.rar ...\n",
      "patool: running \"C:\\Program Files\\WinRAR\\rar.EXE\" x -- C:\\Users\\Matias\\Documents\\UDESA\\Tesis_maestria\\Atpt\\Prueba_nombres\\PGL-Major-Antwerp-2022-faze-vs-natus-vincere-bo3.rar\n",
      "patool:     with cwd=C:\\Users\\Matias\\Documents\\UDESA\\Tesis_maestria\\Atpt\\Prueba_nombres\n",
      "patool: ... PGL-Major-Antwerp-2022-faze-vs-natus-vincere-bo3.rar extracted to `C:\\Users\\Matias\\Documents\\UDESA\\Tesis_maestria\\Atpt\\Prueba_nombres'.\n"
     ]
    }
   ],
   "source": [
    "### EXTRACTOR DE DEMOS Y NOMBRES PARA BUSCAR FACILMENTE\n",
    "import os\n",
    "import patoolib\n",
    "\n",
    "# lista de demos a procesar\n",
    "path = \"C:\\\\Users\\\\Matias\\\\Documents\\\\UDESA\\\\Tesis_maestria\\\\Atpt\\\\Prueba_nombres\"\n",
    "os.chdir(path)\n",
    "\n",
    "carpetas = []\n",
    "for file in os.listdir():\n",
    "    if \".rar\" in file:\n",
    "        carpetas += [file]\n",
    "    if \".dem\" in file:\n",
    "        os.remove(file)\n",
    "    \n",
    "# Ahora hay más archivos, puedo iterar sobre los nuevos\n",
    "for folder in carpetas:\n",
    "    print(folder)\n",
    "    # Extraigo la carpeta\n",
    "    patoolib.extract_archive(\"%s\" % folder, outdir=\"%s\" %path)\n",
    "    \n",
    "    # Itero sobre los files y me fijo si son demo y no les cambié el nombre. Si no, les cambio el nombre\n",
    "    for demo in os.listdir():\n",
    "        for nombre in carpetas:\n",
    "            if (\".dem\" not in demo) or (demo[0] == \"x\"):\n",
    "                break\n",
    "        else:\n",
    "            os.rename(demo, \"x\" + folder.split(\"vs\")[0] + \"vs\" + demo.split(\"vs\")[1])"
   ]
  }
 ],
 "metadata": {
  "kernelspec": {
   "display_name": "Python 3 (ipykernel)",
   "language": "python",
   "name": "python3"
  },
  "language_info": {
   "codemirror_mode": {
    "name": "ipython",
    "version": 3
   },
   "file_extension": ".py",
   "mimetype": "text/x-python",
   "name": "python",
   "nbconvert_exporter": "python",
   "pygments_lexer": "ipython3",
   "version": "3.10.5"
  }
 },
 "nbformat": 4,
 "nbformat_minor": 5
}
